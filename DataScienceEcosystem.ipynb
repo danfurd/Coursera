{
 "cells": [
  {
   "cell_type": "markdown",
   "id": "78309312-5947-4807-8439-54bd73dcfe73",
   "metadata": {
    "tags": []
   },
   "source": [
    "# Data Science Tools and Ecosystem\n"
   ]
  },
  {
   "cell_type": "markdown",
   "id": "d89aa108-d6ac-4bd6-9673-f9bafd7f639d",
   "metadata": {},
   "source": [
    "**Objectives:**\n",
    "- List popular languages for Data Science\n",
    "- List commonly used libraries used by Data Scientists\n",
    "- Create Tables of Data Science Tools\n",
    "- Create Markdowns with Bold font, H1 headers and lists\n",
    "- Create cells the output simply math equations"
   ]
  },
  {
   "cell_type": "markdown",
   "id": "15f9f4ff-cf0b-4bfc-b4f3-25763ab2aac6",
   "metadata": {},
   "source": [
    "In this notebook, Data Science Tools and Ecosystem are summarized."
   ]
  },
  {
   "cell_type": "markdown",
   "id": "ea6c9cb4-83ef-4b51-9304-2a20208fa880",
   "metadata": {},
   "source": [
    "Some of the popular languages that Data Scientists use are:\n",
    "1. Python\n",
    "2. R\n",
    "3. SQL\n",
    "4. Java"
   ]
  },
  {
   "cell_type": "markdown",
   "id": "a67c697a-9a2b-4a5a-aa88-7e8e6ee24dad",
   "metadata": {},
   "source": [
    "Some of the commonly used libraries used by Data Scientists include:\n",
    "1. NumPy\n",
    "2. Pandas\n",
    "3. Pytorch\n",
    "4. SciPy"
   ]
  },
  {
   "cell_type": "markdown",
   "id": "eed7cf33-908f-4466-b7e3-4f895282d374",
   "metadata": {},
   "source": [
    "| Data Science Tools | \n",
    "|---|\n",
    "| RStudio |\n",
    "| ApacheSpark |\n",
    "| TensorFlow |"
   ]
  },
  {
   "cell_type": "markdown",
   "id": "358b1110-9a53-4f67-ab0a-e788dc4f25d5",
   "metadata": {},
   "source": [
    "### Below are a few examples of evaluating arithmetic expressions in Python"
   ]
  },
  {
   "cell_type": "code",
   "execution_count": 4,
   "id": "c1bcba1a-0b47-47d3-a4fc-fc8f04688a7a",
   "metadata": {
    "tags": []
   },
   "outputs": [
    {
     "data": {
      "text/plain": [
       "17"
      ]
     },
     "execution_count": 4,
     "metadata": {},
     "output_type": "execute_result"
    }
   ],
   "source": [
    "# This a simple arithmetic expression to mutiply then add integers\n",
    "(3*4)+5"
   ]
  },
  {
   "cell_type": "code",
   "execution_count": 5,
   "id": "af58df20-9d60-4c0a-a483-ec90d8f83196",
   "metadata": {
    "tags": []
   },
   "outputs": [
    {
     "data": {
      "text/plain": [
       "3.3333333333333335"
      ]
     },
     "execution_count": 5,
     "metadata": {},
     "output_type": "execute_result"
    }
   ],
   "source": [
    "# This will convert 200 minutes to hours by diving by 60\n",
    "200/60"
   ]
  },
  {
   "cell_type": "markdown",
   "id": "d3753054-3ccf-456f-add8-b964dbc8b759",
   "metadata": {},
   "source": [
    "## Author\n",
    "Daniel Fernandes"
   ]
  }
 ],
 "metadata": {
  "kernelspec": {
   "display_name": "Python",
   "language": "python",
   "name": "conda-env-python-py"
  },
  "language_info": {
   "codemirror_mode": {
    "name": "ipython",
    "version": 3
   },
   "file_extension": ".py",
   "mimetype": "text/x-python",
   "name": "python",
   "nbconvert_exporter": "python",
   "pygments_lexer": "ipython3",
   "version": "3.7.12"
  }
 },
 "nbformat": 4,
 "nbformat_minor": 5
}
